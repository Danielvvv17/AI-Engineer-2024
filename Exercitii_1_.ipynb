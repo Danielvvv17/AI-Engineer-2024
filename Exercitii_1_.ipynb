{
  "nbformat": 4,
  "nbformat_minor": 0,
  "metadata": {
    "colab": {
      "provenance": [],
      "authorship_tag": "ABX9TyMsPm/9ZwBdlhyu83Y8km5L",
      "include_colab_link": true
    },
    "kernelspec": {
      "name": "python3",
      "display_name": "Python 3"
    },
    "language_info": {
      "name": "python"
    }
  },
  "cells": [
    {
      "cell_type": "markdown",
      "metadata": {
        "id": "view-in-github",
        "colab_type": "text"
      },
      "source": [
        "<a href=\"https://colab.research.google.com/github/Danielvvv17/AI-Engineer-2024/blob/main/Exercitii_1_.ipynb\" target=\"_parent\"><img src=\"https://colab.research.google.com/assets/colab-badge.svg\" alt=\"Open In Colab\"/></a>"
      ]
    },
    {
      "cell_type": "code",
      "execution_count": 1,
      "metadata": {
        "colab": {
          "base_uri": "https://localhost:8080/"
        },
        "id": "o-J8CMkbosT3",
        "outputId": "146bdd86-e9d2-4a5f-ef37-7c5728338c2b"
      },
      "outputs": [
        {
          "output_type": "stream",
          "name": "stdout",
          "text": [
            "John Doe\n"
          ]
        }
      ],
      "source": [
        "# Concatenate the string variables first_name and last_name with a space in between.\n",
        "first_name = \"John\"\n",
        "last_name = \"Doe\"\n",
        "full_name = first_name + \" \" + last_name\n",
        "print(full_name)\n",
        "\n"
      ]
    },
    {
      "cell_type": "code",
      "source": [
        "# Find the length of the string \"Data Science\".\n",
        "string = \"Data Science\"\n",
        "length = len(string)\n",
        "print(length)\n"
      ],
      "metadata": {
        "colab": {
          "base_uri": "https://localhost:8080/"
        },
        "id": "bZfmrWxdo3Ob",
        "outputId": "8bfd8b0c-28e3-499f-bc64-1562f9d3379d"
      },
      "execution_count": 2,
      "outputs": [
        {
          "output_type": "stream",
          "name": "stdout",
          "text": [
            "12\n"
          ]
        }
      ]
    },
    {
      "cell_type": "code",
      "source": [
        "# Extract the word \"Data\" from the string \"Data Science\".\n",
        "string = \"Data Science\"\n",
        "substring = string[0:4]\n",
        "print(substring)\n",
        "\n"
      ],
      "metadata": {
        "colab": {
          "base_uri": "https://localhost:8080/"
        },
        "id": "_1jINufbpk5q",
        "outputId": "617c8935-ae38-433e-fcd5-79626b2724d0"
      },
      "execution_count": 3,
      "outputs": [
        {
          "output_type": "stream",
          "name": "stdout",
          "text": [
            "12\n"
          ]
        }
      ]
    },
    {
      "cell_type": "code",
      "source": [
        "# Convert the string \"hello world\" to title case.\n",
        "string = \"hello world\"\n",
        "title_case = string.title()\n",
        "print(title_case)\n",
        "\n"
      ],
      "metadata": {
        "colab": {
          "base_uri": "https://localhost:8080/"
        },
        "id": "ZFtgI_riplCQ",
        "outputId": "4a20b1da-f6af-492b-ceda-f78cb4f49324"
      },
      "execution_count": 4,
      "outputs": [
        {
          "output_type": "stream",
          "name": "stdout",
          "text": [
            "Hello World\n"
          ]
        }
      ]
    },
    {
      "cell_type": "code",
      "source": [
        "# Repeat the string \"Python\" 5 times.\n",
        "string = \"Python\"\n",
        "repeated_string = string * 5\n",
        "print(repeated_string)\n"
      ],
      "metadata": {
        "colab": {
          "base_uri": "https://localhost:8080/"
        },
        "id": "oqg2UzwgplKJ",
        "outputId": "1ed7045b-1f6c-4cf6-ee05-85139673604c"
      },
      "execution_count": 5,
      "outputs": [
        {
          "output_type": "stream",
          "name": "stdout",
          "text": [
            "PythonPythonPythonPythonPython\n"
          ]
        }
      ]
    },
    {
      "cell_type": "code",
      "source": [
        "# Check if the substring \"code\" is present in \"coding is fun\".\n",
        "string = \"coding is fun\"\n",
        "presence = \"code\" in string\n",
        "print(presence)\n"
      ],
      "metadata": {
        "colab": {
          "base_uri": "https://localhost:8080/"
        },
        "id": "HhkdkhBLplRh",
        "outputId": "6e9fff56-3407-4710-a04f-817b3df3ee9b"
      },
      "execution_count": 6,
      "outputs": [
        {
          "output_type": "stream",
          "name": "stdout",
          "text": [
            "False\n"
          ]
        }
      ]
    },
    {
      "cell_type": "code",
      "source": [
        "# Convert the string \"HELLO WORLD\" to lowercase.\n",
        "string = \"HELLO WORLD\"\n",
        "lower_case = string.lower()\n",
        "print(lower_case)\n",
        "\n"
      ],
      "metadata": {
        "colab": {
          "base_uri": "https://localhost:8080/"
        },
        "id": "XxQHgFn4plUT",
        "outputId": "9fbbe993-7b0c-40c0-efe7-5a216ec8e696"
      },
      "execution_count": 7,
      "outputs": [
        {
          "output_type": "stream",
          "name": "stdout",
          "text": [
            "hello world\n"
          ]
        }
      ]
    },
    {
      "cell_type": "code",
      "source": [
        "# Replace all occurrences of \"apple\" with \"orange\" in the string \"apple banana apple\".\n",
        "string = \"apple banana apple\"\n",
        "replaced_string = string.replace(\"apple\", \"orange\")\n",
        "print(replaced_string)\n",
        "\n"
      ],
      "metadata": {
        "colab": {
          "base_uri": "https://localhost:8080/"
        },
        "id": "cnaUeYjZpmeR",
        "outputId": "1b79557e-4691-493e-ff64-d3a099c14df4"
      },
      "execution_count": 8,
      "outputs": [
        {
          "output_type": "stream",
          "name": "stdout",
          "text": [
            "orange banana orange\n"
          ]
        }
      ]
    },
    {
      "cell_type": "code",
      "source": [
        "# Split the string \"one,two,three\" by commas.\n",
        "string = \"one,two,three\"\n",
        "split_list = string.split(\",\")\n",
        "print(split_list)\n",
        "\n"
      ],
      "metadata": {
        "colab": {
          "base_uri": "https://localhost:8080/"
        },
        "id": "rDUkZdyypml5",
        "outputId": "f6690aea-4ed0-42cd-c568-04b3b1404698"
      },
      "execution_count": 9,
      "outputs": [
        {
          "output_type": "stream",
          "name": "stdout",
          "text": [
            "['one', 'two', 'three']\n"
          ]
        }
      ]
    },
    {
      "cell_type": "code",
      "source": [
        "# Join the list ['apple', 'banana', 'cherry'] into a single string separated by commas.\n",
        "lst = ['apple', 'banana', 'cherry']\n",
        "joined_string = ','.join(lst)\n",
        "print(joined_string)\n",
        "\n"
      ],
      "metadata": {
        "colab": {
          "base_uri": "https://localhost:8080/"
        },
        "id": "z6szjck_pmtC",
        "outputId": "9682debd-e856-4d5d-a8b3-474297d80221"
      },
      "execution_count": 10,
      "outputs": [
        {
          "output_type": "stream",
          "name": "stdout",
          "text": [
            "apple,banana,cherry\n"
          ]
        }
      ]
    },
    {
      "cell_type": "code",
      "source": [
        "# Convert the float 12.34 to a string.\n",
        "num = 12.34\n",
        "string = str(num)\n",
        "print(string)\n"
      ],
      "metadata": {
        "colab": {
          "base_uri": "https://localhost:8080/"
        },
        "id": "fVGDJhFJpmzx",
        "outputId": "a0c4ab5c-d0aa-46d2-b414-439a60d2be3d"
      },
      "execution_count": 11,
      "outputs": [
        {
          "output_type": "stream",
          "name": "stdout",
          "text": [
            "12.34\n"
          ]
        }
      ]
    },
    {
      "cell_type": "code",
      "source": [
        "# Convert the string \"789\" to an integer.\n",
        "string = \"789\"\n",
        "integer = int(string)\n",
        "print(integer)\n",
        "\n"
      ],
      "metadata": {
        "colab": {
          "base_uri": "https://localhost:8080/"
        },
        "id": "CAoxTvoYpm6x",
        "outputId": "685fa8b6-978a-4809-f176-fbe2fe5a64fa"
      },
      "execution_count": 13,
      "outputs": [
        {
          "output_type": "stream",
          "name": "stdout",
          "text": [
            "789\n"
          ]
        }
      ]
    },
    {
      "cell_type": "code",
      "source": [
        "# Convert the string \"True\" to a boolean.\n",
        "string = \"True\"\n",
        "boolean = string == \"True\"\n",
        "print(boolean)\n",
        "\n"
      ],
      "metadata": {
        "colab": {
          "base_uri": "https://localhost:8080/"
        },
        "id": "vbueZ9e1pnBr",
        "outputId": "b83c2c5d-f317-420e-e810-26607fc54ece"
      },
      "execution_count": 14,
      "outputs": [
        {
          "output_type": "stream",
          "name": "stdout",
          "text": [
            "True\n"
          ]
        }
      ]
    },
    {
      "cell_type": "code",
      "source": [
        "# Round the number 4.5678 to one decimal place.\n",
        "number = 4.5678\n",
        "rounded_number = round(number, 1)\n",
        "print(rounded_number)\n",
        "\n"
      ],
      "metadata": {
        "colab": {
          "base_uri": "https://localhost:8080/"
        },
        "id": "WTWd6vZZpnIg",
        "outputId": "46f3b92c-9b2c-46f5-f905-844036b459f4"
      },
      "execution_count": 15,
      "outputs": [
        {
          "output_type": "stream",
          "name": "stdout",
          "text": [
            "4.6\n"
          ]
        }
      ]
    },
    {
      "cell_type": "code",
      "source": [
        "# Check if the string \"123abc\" is numeric.\n",
        "string = \"123abc\"\n",
        "is_numeric = string.isdigit()\n",
        "print(is_numeric)\n"
      ],
      "metadata": {
        "colab": {
          "base_uri": "https://localhost:8080/"
        },
        "id": "AckuD94LpnPQ",
        "outputId": "62504869-f715-47ad-9ba0-e9b049ddcd76"
      },
      "execution_count": 16,
      "outputs": [
        {
          "output_type": "stream",
          "name": "stdout",
          "text": [
            "False\n"
          ]
        }
      ]
    },
    {
      "cell_type": "code",
      "source": [
        "# Check if the string \"OpenAI\" is alphabetic.\n",
        "string = \"OpenAI\"\n",
        "is_alpha = string.isalpha()\n",
        "print(is_alpha)\n",
        "\n"
      ],
      "metadata": {
        "colab": {
          "base_uri": "https://localhost:8080/"
        },
        "id": "YEzexz1wpnWG",
        "outputId": "8a26d4e7-7e1a-403b-f379-e2c9c092b25e"
      },
      "execution_count": 17,
      "outputs": [
        {
          "output_type": "stream",
          "name": "stdout",
          "text": [
            "True\n"
          ]
        }
      ]
    },
    {
      "cell_type": "code",
      "source": [
        "# Count the number of times the letter \"e\" appears in \"Hello there\".\n",
        "string = \"Hello there\"\n",
        "count = string.count(\"e\")\n",
        "print(count)\n"
      ],
      "metadata": {
        "colab": {
          "base_uri": "https://localhost:8080/"
        },
        "id": "LkSufpatpndZ",
        "outputId": "4dea8831-db69-4c6e-ad1f-36b7f237702b"
      },
      "execution_count": 18,
      "outputs": [
        {
          "output_type": "stream",
          "name": "stdout",
          "text": [
            "3\n"
          ]
        }
      ]
    },
    {
      "cell_type": "code",
      "source": [
        "# Check if the string \"Python Programming\" starts with \"Python\".\n",
        "string = \"Python Programming\"\n",
        "starts_with = string.startswith(\"Python\")\n",
        "print(starts_with)\n",
        "\n"
      ],
      "metadata": {
        "colab": {
          "base_uri": "https://localhost:8080/"
        },
        "id": "IFPYhaFdpnkI",
        "outputId": "dcafb41d-5264-4e27-b443-9a5c667c3786"
      },
      "execution_count": 19,
      "outputs": [
        {
          "output_type": "stream",
          "name": "stdout",
          "text": [
            "True\n"
          ]
        }
      ]
    },
    {
      "cell_type": "code",
      "source": [
        "# Check if the string \"Artificial Intelligence\" ends with \"Intelligence\".\n",
        "string = \"Artificial Intelligence\"\n",
        "ends_with = string.endswith(\"Intelligence\")\n",
        "print(ends_with)\n",
        "\n"
      ],
      "metadata": {
        "colab": {
          "base_uri": "https://localhost:8080/"
        },
        "id": "XBjCd49Vpnrh",
        "outputId": "6484ddbf-5739-4653-d801-ffd64804f065"
      },
      "execution_count": 20,
      "outputs": [
        {
          "output_type": "stream",
          "name": "stdout",
          "text": [
            "True\n"
          ]
        }
      ]
    },
    {
      "cell_type": "code",
      "source": [
        "# Convert the integer 10 to a binary string.\n",
        "integer = 10\n",
        "binary_string = bin(integer)\n",
        "print(binary_string)\n"
      ],
      "metadata": {
        "colab": {
          "base_uri": "https://localhost:8080/"
        },
        "id": "Qs03oGYKpnzi",
        "outputId": "42bd0a5b-a85f-4814-84ce-2bab7c1ec61a"
      },
      "execution_count": 21,
      "outputs": [
        {
          "output_type": "stream",
          "name": "stdout",
          "text": [
            "0b1010\n"
          ]
        }
      ]
    },
    {
      "cell_type": "code",
      "source": [
        "# Convert the string \"robot\" to a list of characters.\n",
        "string = \"robot\"\n",
        "list_of_characters = list(string)\n",
        "print(list_of_characters)\n"
      ],
      "metadata": {
        "colab": {
          "base_uri": "https://localhost:8080/"
        },
        "id": "5t9Yp96bpn6t",
        "outputId": "4d099923-0f28-42fc-f10b-8d3fff2e0781"
      },
      "execution_count": 22,
      "outputs": [
        {
          "output_type": "stream",
          "name": "stdout",
          "text": [
            "['r', 'o', 'b', 'o', 't']\n"
          ]
        }
      ]
    },
    {
      "cell_type": "code",
      "source": [
        "# Remove leading whitespace from the string \" Hello\".\n",
        "string = \" Hello\"\n",
        "trimmed_string = string.lstrip()\n",
        "print(trimmed_string)\n",
        "\n"
      ],
      "metadata": {
        "colab": {
          "base_uri": "https://localhost:8080/"
        },
        "id": "R73uRMBqpoCy",
        "outputId": "b6b1118c-556e-4762-c2aa-ea6c544ad05d"
      },
      "execution_count": 23,
      "outputs": [
        {
          "output_type": "stream",
          "name": "stdout",
          "text": [
            "Hello\n"
          ]
        }
      ]
    },
    {
      "cell_type": "code",
      "source": [
        "# Remove trailing whitespace from the string \"World \".\n",
        "string = \"World \"\n",
        "trimmed_string = string.rstrip()\n",
        "print(trimmed_string)\n",
        "\n"
      ],
      "metadata": {
        "colab": {
          "base_uri": "https://localhost:8080/"
        },
        "id": "aJ_VBeegpoKZ",
        "outputId": "da604cfa-0ee9-41a7-c7f2-f02501093590"
      },
      "execution_count": 24,
      "outputs": [
        {
          "output_type": "stream",
          "name": "stdout",
          "text": [
            "World\n"
          ]
        }
      ]
    },
    {
      "cell_type": "code",
      "source": [
        "# Remove both leading and trailing whitespace from the string \" Hello World \".\n",
        "string = \" Hello World \"\n",
        "trimmed_string = string.strip()\n",
        "print(trimmed_string)\n",
        "\n"
      ],
      "metadata": {
        "colab": {
          "base_uri": "https://localhost:8080/"
        },
        "id": "IpzwLBpKpoRZ",
        "outputId": "81d9e11f-582f-4881-8a1a-2487cd983e60"
      },
      "execution_count": 25,
      "outputs": [
        {
          "output_type": "stream",
          "name": "stdout",
          "text": [
            "Hello World\n"
          ]
        }
      ]
    },
    {
      "cell_type": "code",
      "source": [
        "# Find the starting index of the substring \"Sci\" in \"Data Science\".\n",
        "string = \"Data Science\"\n",
        "index = string.find(\"Sci\")\n",
        "print(index)\n"
      ],
      "metadata": {
        "colab": {
          "base_uri": "https://localhost:8080/"
        },
        "id": "PYsP-oGlpoZa",
        "outputId": "9a93855e-b6cc-4215-dc11-24243ae3cb96"
      },
      "execution_count": 26,
      "outputs": [
        {
          "output_type": "stream",
          "name": "stdout",
          "text": [
            "5\n"
          ]
        }
      ]
    },
    {
      "cell_type": "code",
      "source": [
        "# Check if the string \"Python3\" is alphanumeric.\n",
        "string = \"Python3\"\n",
        "is_alphanumeric = string.isalnum()\n",
        "print(is_alphanumeric)\n",
        "\n"
      ],
      "metadata": {
        "colab": {
          "base_uri": "https://localhost:8080/"
        },
        "id": "EJ77t4y1pohz",
        "outputId": "196c75c4-d0b1-457c-cbda-4e655aa2ce06"
      },
      "execution_count": 27,
      "outputs": [
        {
          "output_type": "stream",
          "name": "stdout",
          "text": [
            "True\n"
          ]
        }
      ]
    },
    {
      "cell_type": "code",
      "source": [
        "# Swap the case of all characters in the string \"Python Is Fun\".\n",
        "string = \"Python Is Fun\"\n",
        "swapped_case = string.swapcase()\n",
        "print(swapped_case)\n",
        "\n"
      ],
      "metadata": {
        "colab": {
          "base_uri": "https://localhost:8080/"
        },
        "id": "WuxA1p1LpoqS",
        "outputId": "6f556962-819e-4502-c035-68b358f62fa7"
      },
      "execution_count": 28,
      "outputs": [
        {
          "output_type": "stream",
          "name": "stdout",
          "text": [
            "pYTHON iS fUN\n"
          ]
        }
      ]
    },
    {
      "cell_type": "code",
      "source": [
        "# Check if the substring \"Python\" is present in \"python is awesome\" (case-insensitive).\n",
        "string = \"python is awesome\"\n",
        "presence = \"Python\".lower() in string.lower()\n",
        "print(presence)\n",
        "\n"
      ],
      "metadata": {
        "colab": {
          "base_uri": "https://localhost:8080/"
        },
        "id": "gXwnkovipoyi",
        "outputId": "45c5e148-babb-4689-e386-7d5d20c9bb5e"
      },
      "execution_count": 29,
      "outputs": [
        {
          "output_type": "stream",
          "name": "stdout",
          "text": [
            "True\n"
          ]
        }
      ]
    },
    {
      "cell_type": "code",
      "source": [
        "# Repeat the character \"*\", 10 times.\n",
        "character = \"*\"\n",
        "repeated_character = character * 10\n",
        "print(repeated_character)\n"
      ],
      "metadata": {
        "colab": {
          "base_uri": "https://localhost:8080/"
        },
        "id": "i2LjkiAcpo5j",
        "outputId": "97711707-8887-4971-b89e-d50317b6e5ee"
      },
      "execution_count": 30,
      "outputs": [
        {
          "output_type": "stream",
          "name": "stdout",
          "text": [
            "**********\n"
          ]
        }
      ]
    },
    {
      "cell_type": "code",
      "source": [
        "# Use string interpolation to insert \"John\" and \"30\" into the string \"My name is ... and I am ... years old.\".\n",
        "name = \"John\"\n",
        "age = 30\n",
        "interpolated_string = f\"My name is {name} and I am {age} years old.\"\n",
        "print(interpolated_string)\n",
        "\n",
        ""
      ],
      "metadata": {
        "colab": {
          "base_uri": "https://localhost:8080/"
        },
        "id": "ewx08PEHppCH",
        "outputId": "da6342d2-8ee1-4338-c762-9f39136e882e"
      },
      "execution_count": 31,
      "outputs": [
        {
          "output_type": "stream",
          "name": "stdout",
          "text": [
            "My name is John and I am 30 years old.\n"
          ]
        }
      ]
    }
  ]
}